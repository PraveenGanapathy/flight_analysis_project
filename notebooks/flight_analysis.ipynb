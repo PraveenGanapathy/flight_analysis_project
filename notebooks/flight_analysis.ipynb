{
 "cells": [
  {
   "cell_type": "markdown",
   "metadata": {},
   "source": [
    "# Flight Data Exploration"
   ]
  },
  {
   "cell_type": "code",
   "execution_count": null,
   "metadata": {
    "execution": {
     "iopub.execute_input": "2022-10-21T14:44:28.395753Z",
     "iopub.status.busy": "2022-10-21T14:44:28.395324Z",
     "iopub.status.idle": "2022-10-21T14:44:28.402889Z",
     "shell.execute_reply": "2022-10-21T14:44:28.401429Z",
     "shell.execute_reply.started": "2022-10-21T14:44:28.395719Z"
    }
   },
   "outputs": [],
   "source": [
    "import pandas as pd\n",
    "import numpy as np\n",
    "import matplotlib.pyplot as plt\n",
    "import seaborn as sns\n",
    "from glob import glob\n",
    "import os\n",
    "from datetime import datetime\n",
    "\n",
    "pd.set_option(\"display.max_columns\", 500)\n",
    "#plt.style.use(\"seaborn-colorblind\")\n",
    "pal = sns.color_palette()"
   ]
  },
  {
   "cell_type": "markdown",
   "metadata": {},
   "source": [
    "# Read in and Format Data"
   ]
  },
  {
   "cell_type": "code",
   "execution_count": null,
   "metadata": {
    "execution": {
     "iopub.execute_input": "2022-10-21T14:45:12.058794Z",
     "iopub.status.busy": "2022-10-21T14:45:12.05834Z",
     "iopub.status.idle": "2022-10-21T14:45:12.06586Z",
     "shell.execute_reply": "2022-10-21T14:45:12.06471Z",
     "shell.execute_reply.started": "2022-10-21T14:45:12.058756Z"
    }
   },
   "outputs": [],
   "source": [
    "from pathlib import Path\n",
    "\n",
    "# Define the directory path\n",
    "data_dir = Path(\"/Users/Praveen/bd_project/flight_analysis_project/data/raw\")\n",
    "\n",
    "# Use rglob() to find all .parquet files recursively\n",
    "parquet_files = list(data_dir.rglob(\"*.parquet\"))\n",
    "\n",
    "# Print the list of files to verify\n",
    "print(parquet_files)"
   ]
  },
  {
   "cell_type": "code",
   "execution_count": null,
   "metadata": {},
   "outputs": [],
   "source": [
    "print(f\"Parquet files: {parquet_files}\")\n",
    "print(\"Your message here\", flush=True)\n"
   ]
  },
  {
   "cell_type": "code",
   "execution_count": null,
   "metadata": {
    "execution": {
     "iopub.execute_input": "2022-10-21T14:45:21.334058Z",
     "iopub.status.busy": "2022-10-21T14:45:21.333526Z",
     "iopub.status.idle": "2022-10-21T14:46:37.174004Z",
     "shell.execute_reply": "2022-10-21T14:46:37.172579Z",
     "shell.execute_reply.started": "2022-10-21T14:45:21.334013Z"
    }
   },
   "outputs": [],
   "source": [
    "column_subset = [\n",
    "    \"FlightDate\",\n",
    "    \"Airline\",\n",
    "    \"Flight_Number_Marketing_Airline\",\n",
    "    \"Origin\",\n",
    "    \"Dest\",\n",
    "    \"Cancelled\",\n",
    "    \"Diverted\",\n",
    "    \"CRSDepTime\",\n",
    "    \"DepTime\",\n",
    "    \"DepDelayMinutes\",\n",
    "    \"OriginAirportID\",\n",
    "    \"OriginCityName\",\n",
    "    \"OriginStateName\",\n",
    "    \"DestAirportID\",\n",
    "    \"DestCityName\",\n",
    "    \"DestStateName\",\n",
    "    \"TaxiOut\",\n",
    "    \"TaxiIn\",\n",
    "    \"CRSArrTime\",\n",
    "    \"ArrTime\",\n",
    "    \"ArrDelayMinutes\",\n",
    "]\n",
    "\n",
    "dfs = []\n",
    "for f in parquet_files:\n",
    "    dfs.append(pd.read_parquet(f, columns=column_subset))\n",
    "df = pd.concat(dfs).reset_index(drop=True)\n",
    "\n",
    "cat_cols = [\"Airline\", \"Origin\", \"Dest\", \"OriginStateName\", \"DestStateName\"]\n",
    "for c in cat_cols:\n",
    "    df[c] = df[c].astype(\"category\")"
   ]
  },
  {
   "cell_type": "markdown",
   "metadata": {},
   "source": [
    "# Understand the `DepDelayMinutes` Variable"
   ]
  },
  {
   "cell_type": "code",
   "execution_count": null,
   "metadata": {
    "execution": {
     "iopub.execute_input": "2022-10-21T14:46:44.911414Z",
     "iopub.status.busy": "2022-10-21T14:46:44.910314Z",
     "iopub.status.idle": "2022-10-21T14:46:54.571695Z",
     "shell.execute_reply": "2022-10-21T14:46:54.570139Z",
     "shell.execute_reply.started": "2022-10-21T14:46:44.911363Z"
    }
   },
   "outputs": [],
   "source": [
    "\n",
    "# Create the folder if it doesn't exist\n",
    "folder_path = \"/Users/Praveen/bd_project/flight_analysis_project/data/presentation\"\n",
    "os.makedirs(folder_path, exist_ok=True)\n",
    "\n",
    "# Plot the histogram\n",
    "df.query(\"DepDelayMinutes < 30\")[\"DepDelayMinutes\"].plot(\n",
    "    kind=\"hist\", bins=30, title=\"Distribution of Flight Delays < 30 Min\"\n",
    ")\n",
    "\n",
    "file_name = f\"flight_delay_distribution.png\"\n",
    "file_path = os.path.join(folder_path, file_name)\n",
    "\n",
    "# Save the plot\n",
    "plt.savefig(file_path)\n",
    "\n",
    "# Show the plot\n",
    "plt.show()\n",
    "\n",
    "print(f\"Plot saved at {file_path}\")\n"
   ]
  },
  {
   "cell_type": "code",
   "execution_count": null,
   "metadata": {
    "execution": {
     "iopub.execute_input": "2022-10-21T14:47:05.773784Z",
     "iopub.status.busy": "2022-10-21T14:47:05.773328Z",
     "iopub.status.idle": "2022-10-21T14:47:08.50487Z",
     "shell.execute_reply": "2022-10-21T14:47:08.503654Z",
     "shell.execute_reply.started": "2022-10-21T14:47:05.773744Z"
    }
   },
   "outputs": [],
   "source": [
    "df.query(\"DepDelayMinutes > 1 and DepDelayMinutes < 61\")[\"DepDelayMinutes\"].plot(\n",
    "    kind=\"hist\", bins=30, title=\"Distribution of Flight Delays - by an hour\"\n",
    ")\n",
    "file_name = f\"flight_delay_distribution_1_60_min.png\"\n",
    "file_path = os.path.join(folder_path, file_name)\n",
    "\n",
    "# Save the plot\n",
    "plt.savefig(file_path)\n",
    "\n",
    "# Show the plot\n",
    "plt.show()\n",
    "\n",
    "print(f\"Plot saved at {file_path}\")"
   ]
  },
  {
   "cell_type": "markdown",
   "metadata": {},
   "source": [
    "# Grouping of Delays\n",
    "Per Wikipedia https://en.wikipedia.org/wiki/Flight_cancellation_and_delay:\n",
    "```\n",
    "Delays are divided into three categories, namely \"on time or small delay\" (up to 15 minutes delay), \"Medium delay\" (15 – 45 minutes delay) and \"Large delay\" ( 45 minutes delay). \n",
    "```"
   ]
  },
  {
   "cell_type": "code",
   "execution_count": null,
   "metadata": {
    "execution": {
     "iopub.execute_input": "2022-10-21T14:47:16.193748Z",
     "iopub.status.busy": "2022-10-21T14:47:16.192761Z",
     "iopub.status.idle": "2022-10-21T14:47:24.463886Z",
     "shell.execute_reply": "2022-10-21T14:47:24.462999Z",
     "shell.execute_reply.started": "2022-10-21T14:47:16.19371Z"
    }
   },
   "outputs": [],
   "source": [
    "df[\"DelayGroup\"] = None\n",
    "df.loc[df[\"DepDelayMinutes\"] == 0, \"DelayGroup\"] = \"OnTime_Early\"\n",
    "df.loc[\n",
    "    (df[\"DepDelayMinutes\"] > 0) & (df[\"DepDelayMinutes\"] <= 15), \"DelayGroup\"\n",
    "] = \"Small_Delay\"\n",
    "df.loc[\n",
    "    (df[\"DepDelayMinutes\"] > 15) & (df[\"DepDelayMinutes\"] <= 45), \"DelayGroup\"\n",
    "] = \"Medium_Delay\"\n",
    "df.loc[df[\"DepDelayMinutes\"] > 45, \"DelayGroup\"] = \"Large_Delay\"\n",
    "df.loc[df[\"Cancelled\"], \"DelayGroup\"] = \"Cancelled\""
   ]
  },
  {
   "cell_type": "code",
   "execution_count": null,
   "metadata": {
    "execution": {
     "iopub.execute_input": "2022-10-21T14:47:24.4664Z",
     "iopub.status.busy": "2022-10-21T14:47:24.465353Z",
     "iopub.status.idle": "2022-10-21T14:47:25.895097Z",
     "shell.execute_reply": "2022-10-21T14:47:25.894227Z",
     "shell.execute_reply.started": "2022-10-21T14:47:24.466367Z"
    }
   },
   "outputs": [],
   "source": [
    "df[\"DelayGroup\"].value_counts(ascending=True).plot(\n",
    "    kind=\"barh\", figsize=(10, 5), color=pal[1], title=\"Flight Results (2018-2022)\"\n",
    ")\n",
    "\n",
    "file_name = f\"flight_results_delaygroup.png\"\n",
    "file_path = os.path.join(folder_path, file_name)\n",
    "\n",
    "# Save the plot\n",
    "plt.savefig(file_path)\n",
    "\n",
    "# Show the plot\n",
    "plt.show()\n",
    "\n",
    "print(f\"Plot saved at {file_path}\")"
   ]
  },
  {
   "cell_type": "markdown",
   "metadata": {},
   "source": [
    "# How Many Flights Per Year?"
   ]
  },
  {
   "cell_type": "code",
   "execution_count": null,
   "metadata": {
    "execution": {
     "iopub.execute_input": "2022-10-21T14:48:34.743058Z",
     "iopub.status.busy": "2022-10-21T14:48:34.74267Z",
     "iopub.status.idle": "2022-10-21T14:48:38.329617Z",
     "shell.execute_reply": "2022-10-21T14:48:38.328464Z",
     "shell.execute_reply.started": "2022-10-21T14:48:34.743026Z"
    }
   },
   "outputs": [],
   "source": [
    "df[\"Year\"] = df['FlightDate'].dt.year\n",
    "df[\"Year\"].value_counts().sort_index().plot(\n",
    "    kind=\"bar\", figsize=(10, 5), title=\"Scheduled Flights Per Year\"\n",
    ")\n",
    "\n",
    "file_name = f\"Scheduled_Flights_Per_Year.png\"\n",
    "file_path = os.path.join(folder_path, file_name)\n",
    "\n",
    "# Save the plot\n",
    "plt.savefig(file_path)\n",
    "\n",
    "# Show the plot\n",
    "plt.show()\n",
    "\n",
    "print(f\"Plot saved at {file_path}\")"
   ]
  },
  {
   "cell_type": "markdown",
   "metadata": {},
   "source": [
    "# What is the % of Flight Results by Year"
   ]
  },
  {
   "cell_type": "code",
   "execution_count": null,
   "metadata": {
    "execution": {
     "iopub.execute_input": "2022-10-21T14:48:53.010509Z",
     "iopub.status.busy": "2022-10-21T14:48:53.01011Z",
     "iopub.status.idle": "2022-10-21T14:49:01.85212Z",
     "shell.execute_reply": "2022-10-21T14:49:01.850924Z",
     "shell.execute_reply.started": "2022-10-21T14:48:53.010477Z"
    }
   },
   "outputs": [],
   "source": [
    "df[\"Year\"] = df[\"FlightDate\"].dt.year\n",
    "df_agg = df.groupby(\"Year\")[\"DelayGroup\"].value_counts(normalize=True).unstack() * 100\n",
    "col_order = [\"OnTime_Early\", \"Small_Delay\", \"Medium_Delay\", \"Large_Delay\", \"Cancelled\"]\n",
    "df_agg[col_order].style.background_gradient(cmap=\"Greens\")"
   ]
  },
  {
   "cell_type": "markdown",
   "metadata": {},
   "source": [
    "# Results by Month"
   ]
  },
  {
   "cell_type": "code",
   "execution_count": null,
   "metadata": {
    "execution": {
     "iopub.execute_input": "2022-10-21T14:49:06.057125Z",
     "iopub.status.busy": "2022-10-21T14:49:06.056707Z",
     "iopub.status.idle": "2022-10-21T14:49:15.134096Z",
     "shell.execute_reply": "2022-10-21T14:49:15.133292Z",
     "shell.execute_reply.started": "2022-10-21T14:49:06.057092Z"
    }
   },
   "outputs": [],
   "source": [
    "df[\"Month\"] = df[\"FlightDate\"].dt.month\n",
    "df_agg = df.groupby(\"Month\")[\"DelayGroup\"].value_counts(normalize=True).unstack() * 100\n",
    "col_order = [\"OnTime_Early\", \"Small_Delay\", \"Medium_Delay\", \"Large_Delay\", \"Cancelled\"]\n",
    "df_agg[col_order].style.background_gradient(cmap=\"Blues\")"
   ]
  },
  {
   "cell_type": "markdown",
   "metadata": {},
   "source": [
    "## Exclude 2020"
   ]
  },
  {
   "cell_type": "code",
   "execution_count": null,
   "metadata": {
    "execution": {
     "iopub.execute_input": "2022-10-21T14:49:22.143099Z",
     "iopub.status.busy": "2022-10-21T14:49:22.142702Z",
     "iopub.status.idle": "2022-10-21T14:49:40.767728Z",
     "shell.execute_reply": "2022-10-21T14:49:40.766513Z",
     "shell.execute_reply.started": "2022-10-21T14:49:22.143069Z"
    }
   },
   "outputs": [],
   "source": [
    "df[\"Month\"] = df[\"FlightDate\"].dt.month\n",
    "df_agg = (\n",
    "    df.query(\"Year != 2020\")\n",
    "    .groupby(\"Month\")[\"DelayGroup\"]\n",
    "    .value_counts(normalize=True)\n",
    "    .unstack()\n",
    "    * 100\n",
    ")\n",
    "col_order = [\"OnTime_Early\", \"Small_Delay\", \"Medium_Delay\", \"Large_Delay\", \"Cancelled\"]\n",
    "df_agg[col_order].style.background_gradient(cmap=\"Blues\")"
   ]
  },
  {
   "cell_type": "markdown",
   "metadata": {},
   "source": [
    "## Why High Cancellation in March/April? What does it look like by year for these months?"
   ]
  },
  {
   "cell_type": "code",
   "execution_count": null,
   "metadata": {
    "execution": {
     "iopub.execute_input": "2022-10-21T14:49:45.238283Z",
     "iopub.status.busy": "2022-10-21T14:49:45.23787Z",
     "iopub.status.idle": "2022-10-21T14:49:50.283384Z",
     "shell.execute_reply": "2022-10-21T14:49:50.282146Z",
     "shell.execute_reply.started": "2022-10-21T14:49:45.238251Z"
    }
   },
   "outputs": [],
   "source": [
    "df[\"Month\"] = df[\"FlightDate\"].dt.month\n",
    "df_agg = (\n",
    "    df.query(\"3 <= Month <= 4\")\n",
    "    .groupby(\"Year\")[\"DelayGroup\"]\n",
    "    .value_counts(normalize=True)\n",
    "    .unstack()\n",
    "    * 100\n",
    ")\n",
    "col_order = [\"OnTime_Early\", \"Small_Delay\", \"Medium_Delay\", \"Large_Delay\", \"Cancelled\"]\n",
    "df_agg[col_order].style.background_gradient(cmap=\"Oranges\", axis=0)"
   ]
  },
  {
   "cell_type": "markdown",
   "metadata": {},
   "source": [
    "# Plot using `calmap`"
   ]
  },
  {
   "cell_type": "code",
   "execution_count": null,
   "metadata": {
    "execution": {
     "iopub.execute_input": "2022-10-21T14:50:16.65738Z",
     "iopub.status.busy": "2022-10-21T14:50:16.656975Z",
     "iopub.status.idle": "2022-10-21T14:50:30.476073Z",
     "shell.execute_reply": "2022-10-21T14:50:30.474965Z",
     "shell.execute_reply.started": "2022-10-21T14:50:16.657349Z"
    }
   },
   "outputs": [],
   "source": [
    "!pip install calmap plotly_calplot -q"
   ]
  },
  {
   "cell_type": "code",
   "execution_count": null,
   "metadata": {
    "execution": {
     "iopub.execute_input": "2022-10-21T14:50:37.284731Z",
     "iopub.status.busy": "2022-10-21T14:50:37.284234Z",
     "iopub.status.idle": "2022-10-21T14:50:38.978852Z",
     "shell.execute_reply": "2022-10-21T14:50:38.977698Z",
     "shell.execute_reply.started": "2022-10-21T14:50:37.284688Z"
    }
   },
   "outputs": [],
   "source": [
    "import calmap\n",
    "events = df.groupby(\"FlightDate\")[\"Cancelled\"].mean()\n",
    "fig, axs = plt.subplots(5, 1, figsize=(10, 10))\n",
    "for i, year in enumerate([2018, 2019, 2020, 2021, 2022]):\n",
    "    calmap.yearplot(\n",
    "        events.apply(np.log), year=year, cmap=\"YlOrRd\", monthly_border=True, ax=axs[i]\n",
    "    )\n",
    "    axs[i].set_title(year)\n",
    "fig.patch.set_facecolor(\"white\")\n",
    "fig.suptitle(\"US Flight Cancellations\", y=0.92, fontsize=20)\n",
    "file_name = f\"flight_cancellations.png\"\n",
    "file_path = os.path.join(folder_path, file_name)\n",
    "\n",
    "# Save the plot\n",
    "plt.savefig(file_path)\n",
    "\n",
    "# Show the plot\n",
    "plt.show()\n",
    "\n",
    "print(f\"Plot saved at {file_path}\")"
   ]
  },
  {
   "cell_type": "markdown",
   "metadata": {},
   "source": [
    "# Interactive Calendar Heatmap"
   ]
  },
  {
   "cell_type": "code",
   "execution_count": null,
   "metadata": {
    "execution": {
     "iopub.execute_input": "2022-10-21T14:50:46.161522Z",
     "iopub.status.busy": "2022-10-21T14:50:46.161098Z",
     "iopub.status.idle": "2022-10-21T14:50:47.641811Z",
     "shell.execute_reply": "2022-10-21T14:50:47.640476Z",
     "shell.execute_reply.started": "2022-10-21T14:50:46.161487Z"
    }
   },
   "outputs": [],
   "source": [
    "from plotly_calplot import calplot\n",
    "\n",
    "# creating the plot\n",
    "fig = calplot(events.apply(np.log).reset_index(), x=\"FlightDate\", y=\"Cancelled\")\n",
    "file_name = f\"interactive_flight_cancellations.html\"\n",
    "file_path = os.path.join(folder_path, file_name)\n",
    "\n",
    "# Save the plot as an HTML file\n",
    "fig.write_html(file_path)\n",
    "\n",
    "# Optionally, show the plot\n",
    "fig.show()\n",
    "\n",
    "print(f\"Interactive plot saved at {file_path}\")"
   ]
  },
  {
   "cell_type": "markdown",
   "metadata": {},
   "source": [
    "# Compare Airlines\n",
    "- Who has the most delays?\n",
    "- Who has the most cancellations?\n",
    "- Who is the most reliable? (on time)"
   ]
  },
  {
   "cell_type": "code",
   "execution_count": null,
   "metadata": {
    "execution": {
     "iopub.execute_input": "2022-10-21T14:51:03.436618Z",
     "iopub.status.busy": "2022-10-21T14:51:03.436184Z",
     "iopub.status.idle": "2022-10-21T14:51:04.085769Z",
     "shell.execute_reply": "2022-10-21T14:51:04.084627Z",
     "shell.execute_reply.started": "2022-10-21T14:51:03.436584Z"
    }
   },
   "outputs": [],
   "source": [
    "fig, ax = plt.subplots(figsize=(10, 10))\n",
    "airlines_ordered = (df[\"Airline\"].value_counts(ascending=True) / 100_000).plot(\n",
    "    kind=\"barh\", ax=ax, color=pal[2], width=1, edgecolor=\"black\"\n",
    ")\n",
    "ax.set_title(\"Number of Flights in Dataset\")\n",
    "ax.set_xlabel(\"Flights (100k)\")\n",
    "file_name = f\"number_of_flights.png\"\n",
    "file_path = os.path.join(folder_path, file_name)\n",
    "\n",
    "# Save the plot as a PNG file\n",
    "fig.savefig(file_path, bbox_inches=\"tight\")\n",
    "\n",
    "# Optionally, show the plot\n",
    "plt.show()\n",
    "\n",
    "print(f\"Plot saved at {file_path}\")\n"
   ]
  },
  {
   "cell_type": "code",
   "execution_count": null,
   "metadata": {},
   "outputs": [],
   "source": []
  }
 ],
 "metadata": {
  "kaggle": {
   "accelerator": "none",
   "dataSources": [
    {
     "datasetId": 2529204,
     "sourceId": 4295427,
     "sourceType": "datasetVersion"
    }
   ],
   "dockerImageVersionId": 30301,
   "isGpuEnabled": false,
   "isInternetEnabled": true,
   "language": "python",
   "sourceType": "notebook"
  },
  "kernelspec": {
   "display_name": "3.10.15",
   "language": "python",
   "name": "python3"
  },
  "language_info": {
   "codemirror_mode": {
    "name": "ipython",
    "version": 3
   },
   "file_extension": ".py",
   "mimetype": "text/x-python",
   "name": "python",
   "nbconvert_exporter": "python",
   "pygments_lexer": "ipython3",
   "version": "3.10.15"
  }
 },
 "nbformat": 4,
 "nbformat_minor": 4
}
